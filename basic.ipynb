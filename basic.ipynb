{
 "cells": [
  {
   "cell_type": "markdown",
   "metadata": {},
   "source": [
    "# Machine Learning (Classification)"
   ]
  },
  {
   "cell_type": "markdown",
   "metadata": {
    "pycharm": {
     "name": "#%% md\n"
    }
   },
   "source": [
    "## 1) import libraries"
   ]
  },
  {
   "cell_type": "code",
   "execution_count": 1,
   "metadata": {
    "pycharm": {
     "name": "#%%\n"
    }
   },
   "outputs": [
    {
     "name": "stdout",
     "output_type": "stream",
     "text": [
      "Pixiedust database opened successfully\n"
     ]
    },
    {
     "data": {
      "text/html": [
       "\n",
       "        <div style=\"margin:10px\">\n",
       "            <a href=\"https://github.com/ibm-watson-data-lab/pixiedust\" target=\"_new\">\n",
       "                <img src=\"https://github.com/ibm-watson-data-lab/pixiedust/raw/master/docs/_static/pd_icon32.png\" style=\"float:left;margin-right:10px\"/>\n",
       "            </a>\n",
       "            <span>Pixiedust version 1.1.19</span>\n",
       "        </div>\n",
       "        "
      ],
      "text/plain": [
       "<IPython.core.display.HTML object>"
      ]
     },
     "metadata": {},
     "output_type": "display_data"
    }
   ],
   "source": [
    "import pickle\n",
    "import pixiedust\n",
    "import sklearn\n",
    "import pandas as pd\n",
    "from sklearn.ensemble import RandomForestClassifier\n",
    "import numpy as np\n",
    "from sklearn.model_selection import train_test_split\n",
    "from sklearn import metrics"
   ]
  },
  {
   "cell_type": "markdown",
   "metadata": {
    "pycharm": {
     "name": "#%% md\n"
    }
   },
   "source": [
    "## 2) read csv\n",
    "##### note: public access expires in Jan 2022"
   ]
  },
  {
   "cell_type": "code",
   "execution_count": 2,
   "metadata": {
    "pycharm": {
     "name": "#%%\n"
    }
   },
   "outputs": [
    {
     "name": "stdout",
     "output_type": "stream",
     "text": [
      "Downloading 'https://github.com/ibm-best-team/shopper-intention/raw/master/refined_cleansed_data.csv' from https://github.com/ibm-best-team/shopper-intention/raw/master/refined_cleansed_data.csv\n",
      "Downloaded 1617956 bytes\n",
      "Creating pandas DataFrame for 'https://github.com/ibm-best-team/shopper-intention/raw/master/refined_cleansed_data.csv'. Please wait...\n",
      "Loading file using 'pandas'\n",
      "Successfully created pandas DataFrame for 'https://github.com/ibm-best-team/shopper-intention/raw/master/refined_cleansed_data.csv'\n"
     ]
    }
   ],
   "source": [
    "github_data_csv = 'https://github.com/ibm-best-team/shopper-intention/raw/master/refined_cleansed_data.csv'\n",
    "raw_df = pixiedust.sampleData(github_data_csv)"
   ]
  },
  {
   "cell_type": "markdown",
   "metadata": {
    "pycharm": {
     "name": "#%% md\n"
    }
   },
   "source": [
    "## 3) understand data"
   ]
  },
  {
   "cell_type": "code",
   "execution_count": 3,
   "metadata": {
    "pycharm": {
     "name": "#%%\n"
    }
   },
   "outputs": [
    {
     "data": {
      "text/plain": [
       "(12330, 20)"
      ]
     },
     "execution_count": 3,
     "metadata": {},
     "output_type": "execute_result"
    }
   ],
   "source": [
    "raw_df.shape"
   ]
  },
  {
   "cell_type": "code",
   "execution_count": 4,
   "metadata": {
    "pycharm": {
     "name": "#%%\n"
    }
   },
   "outputs": [
    {
     "data": {
      "text/plain": [
       "['Admin_Pages_Visited',\n",
       " 'Admin_Pages_Visited_Duration',\n",
       " 'Site_Info_Pages_Visited',\n",
       " 'Site_Info_Pages_Visited_Duration',\n",
       " 'Product_Pages_Visited',\n",
       " 'Product_Pages_Visited_Duration',\n",
       " 'Average_Bounce_Rate',\n",
       " 'Average_Exit_Rates',\n",
       " 'Average_Page_Value',\n",
       " 'Proximity_To_Special_Day',\n",
       " 'Month',\n",
       " 'OS_Type',\n",
       " 'Browser_Type',\n",
       " 'Region',\n",
       " 'Traffic_Type',\n",
       " 'Visitor_Type',\n",
       " 'Weekend',\n",
       " 'Sales_Conversion',\n",
       " 'Special_Day',\n",
       " 'New_Returning_Others']"
      ]
     },
     "execution_count": 4,
     "metadata": {},
     "output_type": "execute_result"
    }
   ],
   "source": [
    "list(raw_df.columns)"
   ]
  },
  {
   "cell_type": "code",
   "execution_count": 5,
   "metadata": {
    "pycharm": {
     "name": "#%%\n"
    }
   },
   "outputs": [
    {
     "data": {
      "text/html": [
       "<div>\n",
       "<style scoped>\n",
       "    .dataframe tbody tr th:only-of-type {\n",
       "        vertical-align: middle;\n",
       "    }\n",
       "\n",
       "    .dataframe tbody tr th {\n",
       "        vertical-align: top;\n",
       "    }\n",
       "\n",
       "    .dataframe thead th {\n",
       "        text-align: right;\n",
       "    }\n",
       "</style>\n",
       "<table border=\"1\" class=\"dataframe\">\n",
       "  <thead>\n",
       "    <tr style=\"text-align: right;\">\n",
       "      <th></th>\n",
       "      <th>Admin_Pages_Visited</th>\n",
       "      <th>Admin_Pages_Visited_Duration</th>\n",
       "      <th>Site_Info_Pages_Visited</th>\n",
       "      <th>Site_Info_Pages_Visited_Duration</th>\n",
       "      <th>Product_Pages_Visited</th>\n",
       "      <th>Product_Pages_Visited_Duration</th>\n",
       "      <th>Average_Bounce_Rate</th>\n",
       "      <th>Average_Exit_Rates</th>\n",
       "      <th>Average_Page_Value</th>\n",
       "      <th>Proximity_To_Special_Day</th>\n",
       "      <th>OS_Type</th>\n",
       "      <th>Browser_Type</th>\n",
       "      <th>Region</th>\n",
       "      <th>Traffic_Type</th>\n",
       "      <th>Weekend</th>\n",
       "      <th>Sales_Conversion</th>\n",
       "      <th>Special_Day</th>\n",
       "      <th>New_Returning_Others</th>\n",
       "    </tr>\n",
       "  </thead>\n",
       "  <tbody>\n",
       "    <tr>\n",
       "      <th>count</th>\n",
       "      <td>12330.000000</td>\n",
       "      <td>12330.000000</td>\n",
       "      <td>12330.000000</td>\n",
       "      <td>12330.000000</td>\n",
       "      <td>12330.000000</td>\n",
       "      <td>12330.000000</td>\n",
       "      <td>12330.000000</td>\n",
       "      <td>12330.000000</td>\n",
       "      <td>12330.000000</td>\n",
       "      <td>12330.000000</td>\n",
       "      <td>12330.000000</td>\n",
       "      <td>12330.000000</td>\n",
       "      <td>12330.000000</td>\n",
       "      <td>12330.000000</td>\n",
       "      <td>12330.000000</td>\n",
       "      <td>12330.000000</td>\n",
       "      <td>12330.000000</td>\n",
       "      <td>12330.000000</td>\n",
       "    </tr>\n",
       "    <tr>\n",
       "      <th>mean</th>\n",
       "      <td>2.315166</td>\n",
       "      <td>80.818611</td>\n",
       "      <td>0.503569</td>\n",
       "      <td>34.472398</td>\n",
       "      <td>31.731468</td>\n",
       "      <td>1194.746220</td>\n",
       "      <td>0.022191</td>\n",
       "      <td>0.043073</td>\n",
       "      <td>5.889258</td>\n",
       "      <td>0.061427</td>\n",
       "      <td>2.124006</td>\n",
       "      <td>2.357097</td>\n",
       "      <td>3.147364</td>\n",
       "      <td>4.069586</td>\n",
       "      <td>0.232603</td>\n",
       "      <td>0.154745</td>\n",
       "      <td>0.012490</td>\n",
       "      <td>0.869505</td>\n",
       "    </tr>\n",
       "    <tr>\n",
       "      <th>std</th>\n",
       "      <td>3.321784</td>\n",
       "      <td>176.779107</td>\n",
       "      <td>1.270156</td>\n",
       "      <td>140.749294</td>\n",
       "      <td>44.475503</td>\n",
       "      <td>1913.669288</td>\n",
       "      <td>0.048488</td>\n",
       "      <td>0.048597</td>\n",
       "      <td>18.568437</td>\n",
       "      <td>0.198917</td>\n",
       "      <td>0.911325</td>\n",
       "      <td>1.717277</td>\n",
       "      <td>2.401591</td>\n",
       "      <td>4.025169</td>\n",
       "      <td>0.422509</td>\n",
       "      <td>0.361676</td>\n",
       "      <td>0.111062</td>\n",
       "      <td>0.356740</td>\n",
       "    </tr>\n",
       "    <tr>\n",
       "      <th>min</th>\n",
       "      <td>0.000000</td>\n",
       "      <td>0.000000</td>\n",
       "      <td>0.000000</td>\n",
       "      <td>0.000000</td>\n",
       "      <td>0.000000</td>\n",
       "      <td>0.000000</td>\n",
       "      <td>0.000000</td>\n",
       "      <td>0.000000</td>\n",
       "      <td>0.000000</td>\n",
       "      <td>0.000000</td>\n",
       "      <td>1.000000</td>\n",
       "      <td>1.000000</td>\n",
       "      <td>1.000000</td>\n",
       "      <td>1.000000</td>\n",
       "      <td>0.000000</td>\n",
       "      <td>0.000000</td>\n",
       "      <td>0.000000</td>\n",
       "      <td>0.000000</td>\n",
       "    </tr>\n",
       "    <tr>\n",
       "      <th>25%</th>\n",
       "      <td>0.000000</td>\n",
       "      <td>0.000000</td>\n",
       "      <td>0.000000</td>\n",
       "      <td>0.000000</td>\n",
       "      <td>7.000000</td>\n",
       "      <td>184.137500</td>\n",
       "      <td>0.000000</td>\n",
       "      <td>0.014286</td>\n",
       "      <td>0.000000</td>\n",
       "      <td>0.000000</td>\n",
       "      <td>2.000000</td>\n",
       "      <td>2.000000</td>\n",
       "      <td>1.000000</td>\n",
       "      <td>2.000000</td>\n",
       "      <td>0.000000</td>\n",
       "      <td>0.000000</td>\n",
       "      <td>0.000000</td>\n",
       "      <td>1.000000</td>\n",
       "    </tr>\n",
       "    <tr>\n",
       "      <th>50%</th>\n",
       "      <td>1.000000</td>\n",
       "      <td>7.500000</td>\n",
       "      <td>0.000000</td>\n",
       "      <td>0.000000</td>\n",
       "      <td>18.000000</td>\n",
       "      <td>598.936905</td>\n",
       "      <td>0.003112</td>\n",
       "      <td>0.025156</td>\n",
       "      <td>0.000000</td>\n",
       "      <td>0.000000</td>\n",
       "      <td>2.000000</td>\n",
       "      <td>2.000000</td>\n",
       "      <td>3.000000</td>\n",
       "      <td>2.000000</td>\n",
       "      <td>0.000000</td>\n",
       "      <td>0.000000</td>\n",
       "      <td>0.000000</td>\n",
       "      <td>1.000000</td>\n",
       "    </tr>\n",
       "    <tr>\n",
       "      <th>75%</th>\n",
       "      <td>4.000000</td>\n",
       "      <td>93.256250</td>\n",
       "      <td>0.000000</td>\n",
       "      <td>0.000000</td>\n",
       "      <td>38.000000</td>\n",
       "      <td>1464.157214</td>\n",
       "      <td>0.016813</td>\n",
       "      <td>0.050000</td>\n",
       "      <td>0.000000</td>\n",
       "      <td>0.000000</td>\n",
       "      <td>3.000000</td>\n",
       "      <td>2.000000</td>\n",
       "      <td>4.000000</td>\n",
       "      <td>4.000000</td>\n",
       "      <td>0.000000</td>\n",
       "      <td>0.000000</td>\n",
       "      <td>0.000000</td>\n",
       "      <td>1.000000</td>\n",
       "    </tr>\n",
       "    <tr>\n",
       "      <th>max</th>\n",
       "      <td>27.000000</td>\n",
       "      <td>3398.750000</td>\n",
       "      <td>24.000000</td>\n",
       "      <td>2549.375000</td>\n",
       "      <td>705.000000</td>\n",
       "      <td>63973.522230</td>\n",
       "      <td>0.200000</td>\n",
       "      <td>0.200000</td>\n",
       "      <td>361.763742</td>\n",
       "      <td>1.000000</td>\n",
       "      <td>8.000000</td>\n",
       "      <td>13.000000</td>\n",
       "      <td>9.000000</td>\n",
       "      <td>20.000000</td>\n",
       "      <td>1.000000</td>\n",
       "      <td>1.000000</td>\n",
       "      <td>1.000000</td>\n",
       "      <td>2.000000</td>\n",
       "    </tr>\n",
       "  </tbody>\n",
       "</table>\n",
       "</div>"
      ],
      "text/plain": [
       "       Admin_Pages_Visited  Admin_Pages_Visited_Duration  \\\n",
       "count         12330.000000                  12330.000000   \n",
       "mean              2.315166                     80.818611   \n",
       "std               3.321784                    176.779107   \n",
       "min               0.000000                      0.000000   \n",
       "25%               0.000000                      0.000000   \n",
       "50%               1.000000                      7.500000   \n",
       "75%               4.000000                     93.256250   \n",
       "max              27.000000                   3398.750000   \n",
       "\n",
       "       Site_Info_Pages_Visited  Site_Info_Pages_Visited_Duration  \\\n",
       "count             12330.000000                      12330.000000   \n",
       "mean                  0.503569                         34.472398   \n",
       "std                   1.270156                        140.749294   \n",
       "min                   0.000000                          0.000000   \n",
       "25%                   0.000000                          0.000000   \n",
       "50%                   0.000000                          0.000000   \n",
       "75%                   0.000000                          0.000000   \n",
       "max                  24.000000                       2549.375000   \n",
       "\n",
       "       Product_Pages_Visited  Product_Pages_Visited_Duration  \\\n",
       "count           12330.000000                    12330.000000   \n",
       "mean               31.731468                     1194.746220   \n",
       "std                44.475503                     1913.669288   \n",
       "min                 0.000000                        0.000000   \n",
       "25%                 7.000000                      184.137500   \n",
       "50%                18.000000                      598.936905   \n",
       "75%                38.000000                     1464.157214   \n",
       "max               705.000000                    63973.522230   \n",
       "\n",
       "       Average_Bounce_Rate  Average_Exit_Rates  Average_Page_Value  \\\n",
       "count         12330.000000        12330.000000        12330.000000   \n",
       "mean              0.022191            0.043073            5.889258   \n",
       "std               0.048488            0.048597           18.568437   \n",
       "min               0.000000            0.000000            0.000000   \n",
       "25%               0.000000            0.014286            0.000000   \n",
       "50%               0.003112            0.025156            0.000000   \n",
       "75%               0.016813            0.050000            0.000000   \n",
       "max               0.200000            0.200000          361.763742   \n",
       "\n",
       "       Proximity_To_Special_Day       OS_Type  Browser_Type        Region  \\\n",
       "count              12330.000000  12330.000000  12330.000000  12330.000000   \n",
       "mean                   0.061427      2.124006      2.357097      3.147364   \n",
       "std                    0.198917      0.911325      1.717277      2.401591   \n",
       "min                    0.000000      1.000000      1.000000      1.000000   \n",
       "25%                    0.000000      2.000000      2.000000      1.000000   \n",
       "50%                    0.000000      2.000000      2.000000      3.000000   \n",
       "75%                    0.000000      3.000000      2.000000      4.000000   \n",
       "max                    1.000000      8.000000     13.000000      9.000000   \n",
       "\n",
       "       Traffic_Type       Weekend  Sales_Conversion   Special_Day  \\\n",
       "count  12330.000000  12330.000000      12330.000000  12330.000000   \n",
       "mean       4.069586      0.232603          0.154745      0.012490   \n",
       "std        4.025169      0.422509          0.361676      0.111062   \n",
       "min        1.000000      0.000000          0.000000      0.000000   \n",
       "25%        2.000000      0.000000          0.000000      0.000000   \n",
       "50%        2.000000      0.000000          0.000000      0.000000   \n",
       "75%        4.000000      0.000000          0.000000      0.000000   \n",
       "max       20.000000      1.000000          1.000000      1.000000   \n",
       "\n",
       "       New_Returning_Others  \n",
       "count          12330.000000  \n",
       "mean               0.869505  \n",
       "std                0.356740  \n",
       "min                0.000000  \n",
       "25%                1.000000  \n",
       "50%                1.000000  \n",
       "75%                1.000000  \n",
       "max                2.000000  "
      ]
     },
     "execution_count": 5,
     "metadata": {},
     "output_type": "execute_result"
    }
   ],
   "source": [
    "raw_df.describe()"
   ]
  },
  {
   "cell_type": "markdown",
   "metadata": {
    "pycharm": {
     "name": "#%% md\n"
    }
   },
   "source": [
    "## 4) data cleansing"
   ]
  },
  {
   "cell_type": "code",
   "execution_count": 6,
   "metadata": {
    "pycharm": {
     "name": "#%%\n"
    }
   },
   "outputs": [],
   "source": [
    "# One-Hot Encoding, using pandas get_dummies\n",
    "hot_raw_df = pd.get_dummies(raw_df)"
   ]
  },
  {
   "cell_type": "code",
   "execution_count": 7,
   "metadata": {
    "pycharm": {
     "name": "#%%\n"
    }
   },
   "outputs": [
    {
     "data": {
      "text/plain": [
       "(12330, 31)"
      ]
     },
     "execution_count": 7,
     "metadata": {},
     "output_type": "execute_result"
    }
   ],
   "source": [
    "hot_raw_df.shape"
   ]
  },
  {
   "cell_type": "code",
   "execution_count": 8,
   "metadata": {
    "pycharm": {
     "name": "#%%\n"
    }
   },
   "outputs": [
    {
     "data": {
      "text/plain": [
       "['Admin_Pages_Visited',\n",
       " 'Admin_Pages_Visited_Duration',\n",
       " 'Site_Info_Pages_Visited',\n",
       " 'Site_Info_Pages_Visited_Duration',\n",
       " 'Product_Pages_Visited',\n",
       " 'Product_Pages_Visited_Duration',\n",
       " 'Average_Bounce_Rate',\n",
       " 'Average_Exit_Rates',\n",
       " 'Average_Page_Value',\n",
       " 'Proximity_To_Special_Day',\n",
       " 'OS_Type',\n",
       " 'Browser_Type',\n",
       " 'Region',\n",
       " 'Traffic_Type',\n",
       " 'Weekend',\n",
       " 'Sales_Conversion',\n",
       " 'Special_Day',\n",
       " 'New_Returning_Others',\n",
       " 'Month_Aug',\n",
       " 'Month_Dec',\n",
       " 'Month_Feb',\n",
       " 'Month_Jul',\n",
       " 'Month_June',\n",
       " 'Month_Mar',\n",
       " 'Month_May',\n",
       " 'Month_Nov',\n",
       " 'Month_Oct',\n",
       " 'Month_Sep',\n",
       " 'Visitor_Type_New_Visitor',\n",
       " 'Visitor_Type_Other',\n",
       " 'Visitor_Type_Returning_Visitor']"
      ]
     },
     "execution_count": 8,
     "metadata": {},
     "output_type": "execute_result"
    }
   ],
   "source": [
    "list(hot_raw_df.columns)"
   ]
  },
  {
   "cell_type": "code",
   "execution_count": 9,
   "metadata": {
    "pycharm": {
     "name": "#%%\n"
    }
   },
   "outputs": [
    {
     "data": {
      "text/html": [
       "<div>\n",
       "<style scoped>\n",
       "    .dataframe tbody tr th:only-of-type {\n",
       "        vertical-align: middle;\n",
       "    }\n",
       "\n",
       "    .dataframe tbody tr th {\n",
       "        vertical-align: top;\n",
       "    }\n",
       "\n",
       "    .dataframe thead th {\n",
       "        text-align: right;\n",
       "    }\n",
       "</style>\n",
       "<table border=\"1\" class=\"dataframe\">\n",
       "  <thead>\n",
       "    <tr style=\"text-align: right;\">\n",
       "      <th></th>\n",
       "      <th>Admin_Pages_Visited</th>\n",
       "      <th>Admin_Pages_Visited_Duration</th>\n",
       "      <th>Site_Info_Pages_Visited</th>\n",
       "      <th>Site_Info_Pages_Visited_Duration</th>\n",
       "      <th>Product_Pages_Visited</th>\n",
       "      <th>Product_Pages_Visited_Duration</th>\n",
       "      <th>Average_Bounce_Rate</th>\n",
       "      <th>Average_Exit_Rates</th>\n",
       "      <th>Average_Page_Value</th>\n",
       "      <th>Proximity_To_Special_Day</th>\n",
       "      <th>...</th>\n",
       "      <th>Month_Jul</th>\n",
       "      <th>Month_June</th>\n",
       "      <th>Month_Mar</th>\n",
       "      <th>Month_May</th>\n",
       "      <th>Month_Nov</th>\n",
       "      <th>Month_Oct</th>\n",
       "      <th>Month_Sep</th>\n",
       "      <th>Visitor_Type_New_Visitor</th>\n",
       "      <th>Visitor_Type_Other</th>\n",
       "      <th>Visitor_Type_Returning_Visitor</th>\n",
       "    </tr>\n",
       "  </thead>\n",
       "  <tbody>\n",
       "    <tr>\n",
       "      <th>count</th>\n",
       "      <td>12330.000000</td>\n",
       "      <td>12330.000000</td>\n",
       "      <td>12330.000000</td>\n",
       "      <td>12330.000000</td>\n",
       "      <td>12330.000000</td>\n",
       "      <td>12330.000000</td>\n",
       "      <td>12330.000000</td>\n",
       "      <td>12330.000000</td>\n",
       "      <td>12330.000000</td>\n",
       "      <td>12330.000000</td>\n",
       "      <td>...</td>\n",
       "      <td>12330.000000</td>\n",
       "      <td>12330.000000</td>\n",
       "      <td>12330.000000</td>\n",
       "      <td>12330.000000</td>\n",
       "      <td>12330.000000</td>\n",
       "      <td>12330.000000</td>\n",
       "      <td>12330.000000</td>\n",
       "      <td>12330.000000</td>\n",
       "      <td>12330.000000</td>\n",
       "      <td>12330.000000</td>\n",
       "    </tr>\n",
       "    <tr>\n",
       "      <th>mean</th>\n",
       "      <td>2.315166</td>\n",
       "      <td>80.818611</td>\n",
       "      <td>0.503569</td>\n",
       "      <td>34.472398</td>\n",
       "      <td>31.731468</td>\n",
       "      <td>1194.746220</td>\n",
       "      <td>0.022191</td>\n",
       "      <td>0.043073</td>\n",
       "      <td>5.889258</td>\n",
       "      <td>0.061427</td>\n",
       "      <td>...</td>\n",
       "      <td>0.035036</td>\n",
       "      <td>0.023358</td>\n",
       "      <td>0.154663</td>\n",
       "      <td>0.272830</td>\n",
       "      <td>0.243147</td>\n",
       "      <td>0.044526</td>\n",
       "      <td>0.036334</td>\n",
       "      <td>0.137388</td>\n",
       "      <td>0.006894</td>\n",
       "      <td>0.855718</td>\n",
       "    </tr>\n",
       "    <tr>\n",
       "      <th>std</th>\n",
       "      <td>3.321784</td>\n",
       "      <td>176.779107</td>\n",
       "      <td>1.270156</td>\n",
       "      <td>140.749294</td>\n",
       "      <td>44.475503</td>\n",
       "      <td>1913.669288</td>\n",
       "      <td>0.048488</td>\n",
       "      <td>0.048597</td>\n",
       "      <td>18.568437</td>\n",
       "      <td>0.198917</td>\n",
       "      <td>...</td>\n",
       "      <td>0.183880</td>\n",
       "      <td>0.151043</td>\n",
       "      <td>0.361598</td>\n",
       "      <td>0.445432</td>\n",
       "      <td>0.429000</td>\n",
       "      <td>0.206268</td>\n",
       "      <td>0.187128</td>\n",
       "      <td>0.344271</td>\n",
       "      <td>0.082745</td>\n",
       "      <td>0.351390</td>\n",
       "    </tr>\n",
       "    <tr>\n",
       "      <th>min</th>\n",
       "      <td>0.000000</td>\n",
       "      <td>0.000000</td>\n",
       "      <td>0.000000</td>\n",
       "      <td>0.000000</td>\n",
       "      <td>0.000000</td>\n",
       "      <td>0.000000</td>\n",
       "      <td>0.000000</td>\n",
       "      <td>0.000000</td>\n",
       "      <td>0.000000</td>\n",
       "      <td>0.000000</td>\n",
       "      <td>...</td>\n",
       "      <td>0.000000</td>\n",
       "      <td>0.000000</td>\n",
       "      <td>0.000000</td>\n",
       "      <td>0.000000</td>\n",
       "      <td>0.000000</td>\n",
       "      <td>0.000000</td>\n",
       "      <td>0.000000</td>\n",
       "      <td>0.000000</td>\n",
       "      <td>0.000000</td>\n",
       "      <td>0.000000</td>\n",
       "    </tr>\n",
       "    <tr>\n",
       "      <th>25%</th>\n",
       "      <td>0.000000</td>\n",
       "      <td>0.000000</td>\n",
       "      <td>0.000000</td>\n",
       "      <td>0.000000</td>\n",
       "      <td>7.000000</td>\n",
       "      <td>184.137500</td>\n",
       "      <td>0.000000</td>\n",
       "      <td>0.014286</td>\n",
       "      <td>0.000000</td>\n",
       "      <td>0.000000</td>\n",
       "      <td>...</td>\n",
       "      <td>0.000000</td>\n",
       "      <td>0.000000</td>\n",
       "      <td>0.000000</td>\n",
       "      <td>0.000000</td>\n",
       "      <td>0.000000</td>\n",
       "      <td>0.000000</td>\n",
       "      <td>0.000000</td>\n",
       "      <td>0.000000</td>\n",
       "      <td>0.000000</td>\n",
       "      <td>1.000000</td>\n",
       "    </tr>\n",
       "    <tr>\n",
       "      <th>50%</th>\n",
       "      <td>1.000000</td>\n",
       "      <td>7.500000</td>\n",
       "      <td>0.000000</td>\n",
       "      <td>0.000000</td>\n",
       "      <td>18.000000</td>\n",
       "      <td>598.936905</td>\n",
       "      <td>0.003112</td>\n",
       "      <td>0.025156</td>\n",
       "      <td>0.000000</td>\n",
       "      <td>0.000000</td>\n",
       "      <td>...</td>\n",
       "      <td>0.000000</td>\n",
       "      <td>0.000000</td>\n",
       "      <td>0.000000</td>\n",
       "      <td>0.000000</td>\n",
       "      <td>0.000000</td>\n",
       "      <td>0.000000</td>\n",
       "      <td>0.000000</td>\n",
       "      <td>0.000000</td>\n",
       "      <td>0.000000</td>\n",
       "      <td>1.000000</td>\n",
       "    </tr>\n",
       "    <tr>\n",
       "      <th>75%</th>\n",
       "      <td>4.000000</td>\n",
       "      <td>93.256250</td>\n",
       "      <td>0.000000</td>\n",
       "      <td>0.000000</td>\n",
       "      <td>38.000000</td>\n",
       "      <td>1464.157214</td>\n",
       "      <td>0.016813</td>\n",
       "      <td>0.050000</td>\n",
       "      <td>0.000000</td>\n",
       "      <td>0.000000</td>\n",
       "      <td>...</td>\n",
       "      <td>0.000000</td>\n",
       "      <td>0.000000</td>\n",
       "      <td>0.000000</td>\n",
       "      <td>1.000000</td>\n",
       "      <td>0.000000</td>\n",
       "      <td>0.000000</td>\n",
       "      <td>0.000000</td>\n",
       "      <td>0.000000</td>\n",
       "      <td>0.000000</td>\n",
       "      <td>1.000000</td>\n",
       "    </tr>\n",
       "    <tr>\n",
       "      <th>max</th>\n",
       "      <td>27.000000</td>\n",
       "      <td>3398.750000</td>\n",
       "      <td>24.000000</td>\n",
       "      <td>2549.375000</td>\n",
       "      <td>705.000000</td>\n",
       "      <td>63973.522230</td>\n",
       "      <td>0.200000</td>\n",
       "      <td>0.200000</td>\n",
       "      <td>361.763742</td>\n",
       "      <td>1.000000</td>\n",
       "      <td>...</td>\n",
       "      <td>1.000000</td>\n",
       "      <td>1.000000</td>\n",
       "      <td>1.000000</td>\n",
       "      <td>1.000000</td>\n",
       "      <td>1.000000</td>\n",
       "      <td>1.000000</td>\n",
       "      <td>1.000000</td>\n",
       "      <td>1.000000</td>\n",
       "      <td>1.000000</td>\n",
       "      <td>1.000000</td>\n",
       "    </tr>\n",
       "  </tbody>\n",
       "</table>\n",
       "<p>8 rows × 31 columns</p>\n",
       "</div>"
      ],
      "text/plain": [
       "       Admin_Pages_Visited  Admin_Pages_Visited_Duration  \\\n",
       "count         12330.000000                  12330.000000   \n",
       "mean              2.315166                     80.818611   \n",
       "std               3.321784                    176.779107   \n",
       "min               0.000000                      0.000000   \n",
       "25%               0.000000                      0.000000   \n",
       "50%               1.000000                      7.500000   \n",
       "75%               4.000000                     93.256250   \n",
       "max              27.000000                   3398.750000   \n",
       "\n",
       "       Site_Info_Pages_Visited  Site_Info_Pages_Visited_Duration  \\\n",
       "count             12330.000000                      12330.000000   \n",
       "mean                  0.503569                         34.472398   \n",
       "std                   1.270156                        140.749294   \n",
       "min                   0.000000                          0.000000   \n",
       "25%                   0.000000                          0.000000   \n",
       "50%                   0.000000                          0.000000   \n",
       "75%                   0.000000                          0.000000   \n",
       "max                  24.000000                       2549.375000   \n",
       "\n",
       "       Product_Pages_Visited  Product_Pages_Visited_Duration  \\\n",
       "count           12330.000000                    12330.000000   \n",
       "mean               31.731468                     1194.746220   \n",
       "std                44.475503                     1913.669288   \n",
       "min                 0.000000                        0.000000   \n",
       "25%                 7.000000                      184.137500   \n",
       "50%                18.000000                      598.936905   \n",
       "75%                38.000000                     1464.157214   \n",
       "max               705.000000                    63973.522230   \n",
       "\n",
       "       Average_Bounce_Rate  Average_Exit_Rates  Average_Page_Value  \\\n",
       "count         12330.000000        12330.000000        12330.000000   \n",
       "mean              0.022191            0.043073            5.889258   \n",
       "std               0.048488            0.048597           18.568437   \n",
       "min               0.000000            0.000000            0.000000   \n",
       "25%               0.000000            0.014286            0.000000   \n",
       "50%               0.003112            0.025156            0.000000   \n",
       "75%               0.016813            0.050000            0.000000   \n",
       "max               0.200000            0.200000          361.763742   \n",
       "\n",
       "       Proximity_To_Special_Day  ...     Month_Jul    Month_June  \\\n",
       "count              12330.000000  ...  12330.000000  12330.000000   \n",
       "mean                   0.061427  ...      0.035036      0.023358   \n",
       "std                    0.198917  ...      0.183880      0.151043   \n",
       "min                    0.000000  ...      0.000000      0.000000   \n",
       "25%                    0.000000  ...      0.000000      0.000000   \n",
       "50%                    0.000000  ...      0.000000      0.000000   \n",
       "75%                    0.000000  ...      0.000000      0.000000   \n",
       "max                    1.000000  ...      1.000000      1.000000   \n",
       "\n",
       "          Month_Mar     Month_May     Month_Nov     Month_Oct     Month_Sep  \\\n",
       "count  12330.000000  12330.000000  12330.000000  12330.000000  12330.000000   \n",
       "mean       0.154663      0.272830      0.243147      0.044526      0.036334   \n",
       "std        0.361598      0.445432      0.429000      0.206268      0.187128   \n",
       "min        0.000000      0.000000      0.000000      0.000000      0.000000   \n",
       "25%        0.000000      0.000000      0.000000      0.000000      0.000000   \n",
       "50%        0.000000      0.000000      0.000000      0.000000      0.000000   \n",
       "75%        0.000000      1.000000      0.000000      0.000000      0.000000   \n",
       "max        1.000000      1.000000      1.000000      1.000000      1.000000   \n",
       "\n",
       "       Visitor_Type_New_Visitor  Visitor_Type_Other  \\\n",
       "count              12330.000000        12330.000000   \n",
       "mean                   0.137388            0.006894   \n",
       "std                    0.344271            0.082745   \n",
       "min                    0.000000            0.000000   \n",
       "25%                    0.000000            0.000000   \n",
       "50%                    0.000000            0.000000   \n",
       "75%                    0.000000            0.000000   \n",
       "max                    1.000000            1.000000   \n",
       "\n",
       "       Visitor_Type_Returning_Visitor  \n",
       "count                    12330.000000  \n",
       "mean                         0.855718  \n",
       "std                          0.351390  \n",
       "min                          0.000000  \n",
       "25%                          1.000000  \n",
       "50%                          1.000000  \n",
       "75%                          1.000000  \n",
       "max                          1.000000  \n",
       "\n",
       "[8 rows x 31 columns]"
      ]
     },
     "execution_count": 9,
     "metadata": {},
     "output_type": "execute_result"
    }
   ],
   "source": [
    "hot_raw_df.describe()"
   ]
  },
  {
   "cell_type": "code",
   "execution_count": 10,
   "metadata": {
    "pycharm": {
     "name": "#%%\n"
    }
   },
   "outputs": [
    {
     "data": {
      "text/html": [
       "<div>\n",
       "<style scoped>\n",
       "    .dataframe tbody tr th:only-of-type {\n",
       "        vertical-align: middle;\n",
       "    }\n",
       "\n",
       "    .dataframe tbody tr th {\n",
       "        vertical-align: top;\n",
       "    }\n",
       "\n",
       "    .dataframe thead th {\n",
       "        text-align: right;\n",
       "    }\n",
       "</style>\n",
       "<table border=\"1\" class=\"dataframe\">\n",
       "  <thead>\n",
       "    <tr style=\"text-align: right;\">\n",
       "      <th></th>\n",
       "      <th>Admin_Pages_Visited</th>\n",
       "      <th>Admin_Pages_Visited_Duration</th>\n",
       "      <th>Site_Info_Pages_Visited</th>\n",
       "      <th>Site_Info_Pages_Visited_Duration</th>\n",
       "      <th>Product_Pages_Visited</th>\n",
       "      <th>Product_Pages_Visited_Duration</th>\n",
       "      <th>Average_Bounce_Rate</th>\n",
       "      <th>Average_Exit_Rates</th>\n",
       "      <th>Average_Page_Value</th>\n",
       "      <th>Proximity_To_Special_Day</th>\n",
       "      <th>OS_Type</th>\n",
       "      <th>Browser_Type</th>\n",
       "      <th>Region</th>\n",
       "      <th>Traffic_Type</th>\n",
       "      <th>Weekend</th>\n",
       "      <th>Sales_Conversion</th>\n",
       "      <th>Special_Day</th>\n",
       "      <th>New_Returning_Others</th>\n",
       "    </tr>\n",
       "  </thead>\n",
       "  <tbody>\n",
       "    <tr>\n",
       "      <th>0</th>\n",
       "      <td>0</td>\n",
       "      <td>0.0</td>\n",
       "      <td>0</td>\n",
       "      <td>0.0</td>\n",
       "      <td>1</td>\n",
       "      <td>0.000000</td>\n",
       "      <td>0.200000</td>\n",
       "      <td>0.200000</td>\n",
       "      <td>0.0</td>\n",
       "      <td>0.0</td>\n",
       "      <td>1</td>\n",
       "      <td>1</td>\n",
       "      <td>1</td>\n",
       "      <td>1</td>\n",
       "      <td>0</td>\n",
       "      <td>0</td>\n",
       "      <td>0</td>\n",
       "      <td>1</td>\n",
       "    </tr>\n",
       "    <tr>\n",
       "      <th>1</th>\n",
       "      <td>0</td>\n",
       "      <td>0.0</td>\n",
       "      <td>0</td>\n",
       "      <td>0.0</td>\n",
       "      <td>2</td>\n",
       "      <td>64.000000</td>\n",
       "      <td>0.000000</td>\n",
       "      <td>0.100000</td>\n",
       "      <td>0.0</td>\n",
       "      <td>0.0</td>\n",
       "      <td>2</td>\n",
       "      <td>2</td>\n",
       "      <td>1</td>\n",
       "      <td>2</td>\n",
       "      <td>0</td>\n",
       "      <td>0</td>\n",
       "      <td>0</td>\n",
       "      <td>1</td>\n",
       "    </tr>\n",
       "    <tr>\n",
       "      <th>2</th>\n",
       "      <td>0</td>\n",
       "      <td>0.0</td>\n",
       "      <td>0</td>\n",
       "      <td>0.0</td>\n",
       "      <td>1</td>\n",
       "      <td>0.000000</td>\n",
       "      <td>0.200000</td>\n",
       "      <td>0.200000</td>\n",
       "      <td>0.0</td>\n",
       "      <td>0.0</td>\n",
       "      <td>4</td>\n",
       "      <td>1</td>\n",
       "      <td>9</td>\n",
       "      <td>3</td>\n",
       "      <td>0</td>\n",
       "      <td>0</td>\n",
       "      <td>0</td>\n",
       "      <td>1</td>\n",
       "    </tr>\n",
       "    <tr>\n",
       "      <th>3</th>\n",
       "      <td>0</td>\n",
       "      <td>0.0</td>\n",
       "      <td>0</td>\n",
       "      <td>0.0</td>\n",
       "      <td>2</td>\n",
       "      <td>2.666667</td>\n",
       "      <td>0.050000</td>\n",
       "      <td>0.140000</td>\n",
       "      <td>0.0</td>\n",
       "      <td>0.0</td>\n",
       "      <td>3</td>\n",
       "      <td>2</td>\n",
       "      <td>2</td>\n",
       "      <td>4</td>\n",
       "      <td>0</td>\n",
       "      <td>0</td>\n",
       "      <td>0</td>\n",
       "      <td>1</td>\n",
       "    </tr>\n",
       "    <tr>\n",
       "      <th>4</th>\n",
       "      <td>0</td>\n",
       "      <td>0.0</td>\n",
       "      <td>0</td>\n",
       "      <td>0.0</td>\n",
       "      <td>10</td>\n",
       "      <td>627.500000</td>\n",
       "      <td>0.020000</td>\n",
       "      <td>0.050000</td>\n",
       "      <td>0.0</td>\n",
       "      <td>0.0</td>\n",
       "      <td>3</td>\n",
       "      <td>3</td>\n",
       "      <td>1</td>\n",
       "      <td>4</td>\n",
       "      <td>1</td>\n",
       "      <td>0</td>\n",
       "      <td>0</td>\n",
       "      <td>1</td>\n",
       "    </tr>\n",
       "    <tr>\n",
       "      <th>5</th>\n",
       "      <td>0</td>\n",
       "      <td>0.0</td>\n",
       "      <td>0</td>\n",
       "      <td>0.0</td>\n",
       "      <td>19</td>\n",
       "      <td>154.216667</td>\n",
       "      <td>0.015789</td>\n",
       "      <td>0.024561</td>\n",
       "      <td>0.0</td>\n",
       "      <td>0.0</td>\n",
       "      <td>2</td>\n",
       "      <td>2</td>\n",
       "      <td>1</td>\n",
       "      <td>3</td>\n",
       "      <td>0</td>\n",
       "      <td>0</td>\n",
       "      <td>0</td>\n",
       "      <td>1</td>\n",
       "    </tr>\n",
       "    <tr>\n",
       "      <th>6</th>\n",
       "      <td>0</td>\n",
       "      <td>0.0</td>\n",
       "      <td>0</td>\n",
       "      <td>0.0</td>\n",
       "      <td>1</td>\n",
       "      <td>0.000000</td>\n",
       "      <td>0.200000</td>\n",
       "      <td>0.200000</td>\n",
       "      <td>0.0</td>\n",
       "      <td>0.4</td>\n",
       "      <td>2</td>\n",
       "      <td>4</td>\n",
       "      <td>3</td>\n",
       "      <td>3</td>\n",
       "      <td>0</td>\n",
       "      <td>0</td>\n",
       "      <td>0</td>\n",
       "      <td>1</td>\n",
       "    </tr>\n",
       "    <tr>\n",
       "      <th>7</th>\n",
       "      <td>1</td>\n",
       "      <td>0.0</td>\n",
       "      <td>0</td>\n",
       "      <td>0.0</td>\n",
       "      <td>0</td>\n",
       "      <td>0.000000</td>\n",
       "      <td>0.200000</td>\n",
       "      <td>0.200000</td>\n",
       "      <td>0.0</td>\n",
       "      <td>0.0</td>\n",
       "      <td>1</td>\n",
       "      <td>2</td>\n",
       "      <td>1</td>\n",
       "      <td>5</td>\n",
       "      <td>1</td>\n",
       "      <td>0</td>\n",
       "      <td>0</td>\n",
       "      <td>1</td>\n",
       "    </tr>\n",
       "    <tr>\n",
       "      <th>8</th>\n",
       "      <td>0</td>\n",
       "      <td>0.0</td>\n",
       "      <td>0</td>\n",
       "      <td>0.0</td>\n",
       "      <td>2</td>\n",
       "      <td>37.000000</td>\n",
       "      <td>0.000000</td>\n",
       "      <td>0.100000</td>\n",
       "      <td>0.0</td>\n",
       "      <td>0.8</td>\n",
       "      <td>2</td>\n",
       "      <td>2</td>\n",
       "      <td>2</td>\n",
       "      <td>3</td>\n",
       "      <td>0</td>\n",
       "      <td>0</td>\n",
       "      <td>0</td>\n",
       "      <td>1</td>\n",
       "    </tr>\n",
       "    <tr>\n",
       "      <th>9</th>\n",
       "      <td>0</td>\n",
       "      <td>0.0</td>\n",
       "      <td>0</td>\n",
       "      <td>0.0</td>\n",
       "      <td>3</td>\n",
       "      <td>738.000000</td>\n",
       "      <td>0.000000</td>\n",
       "      <td>0.022222</td>\n",
       "      <td>0.0</td>\n",
       "      <td>0.4</td>\n",
       "      <td>2</td>\n",
       "      <td>4</td>\n",
       "      <td>1</td>\n",
       "      <td>2</td>\n",
       "      <td>0</td>\n",
       "      <td>0</td>\n",
       "      <td>0</td>\n",
       "      <td>1</td>\n",
       "    </tr>\n",
       "  </tbody>\n",
       "</table>\n",
       "</div>"
      ],
      "text/plain": [
       "   Admin_Pages_Visited  Admin_Pages_Visited_Duration  Site_Info_Pages_Visited  \\\n",
       "0                    0                           0.0                        0   \n",
       "1                    0                           0.0                        0   \n",
       "2                    0                           0.0                        0   \n",
       "3                    0                           0.0                        0   \n",
       "4                    0                           0.0                        0   \n",
       "5                    0                           0.0                        0   \n",
       "6                    0                           0.0                        0   \n",
       "7                    1                           0.0                        0   \n",
       "8                    0                           0.0                        0   \n",
       "9                    0                           0.0                        0   \n",
       "\n",
       "   Site_Info_Pages_Visited_Duration  Product_Pages_Visited  \\\n",
       "0                               0.0                      1   \n",
       "1                               0.0                      2   \n",
       "2                               0.0                      1   \n",
       "3                               0.0                      2   \n",
       "4                               0.0                     10   \n",
       "5                               0.0                     19   \n",
       "6                               0.0                      1   \n",
       "7                               0.0                      0   \n",
       "8                               0.0                      2   \n",
       "9                               0.0                      3   \n",
       "\n",
       "   Product_Pages_Visited_Duration  Average_Bounce_Rate  Average_Exit_Rates  \\\n",
       "0                        0.000000             0.200000            0.200000   \n",
       "1                       64.000000             0.000000            0.100000   \n",
       "2                        0.000000             0.200000            0.200000   \n",
       "3                        2.666667             0.050000            0.140000   \n",
       "4                      627.500000             0.020000            0.050000   \n",
       "5                      154.216667             0.015789            0.024561   \n",
       "6                        0.000000             0.200000            0.200000   \n",
       "7                        0.000000             0.200000            0.200000   \n",
       "8                       37.000000             0.000000            0.100000   \n",
       "9                      738.000000             0.000000            0.022222   \n",
       "\n",
       "   Average_Page_Value  Proximity_To_Special_Day  OS_Type  Browser_Type  \\\n",
       "0                 0.0                       0.0        1             1   \n",
       "1                 0.0                       0.0        2             2   \n",
       "2                 0.0                       0.0        4             1   \n",
       "3                 0.0                       0.0        3             2   \n",
       "4                 0.0                       0.0        3             3   \n",
       "5                 0.0                       0.0        2             2   \n",
       "6                 0.0                       0.4        2             4   \n",
       "7                 0.0                       0.0        1             2   \n",
       "8                 0.0                       0.8        2             2   \n",
       "9                 0.0                       0.4        2             4   \n",
       "\n",
       "   Region  Traffic_Type  Weekend  Sales_Conversion  Special_Day  \\\n",
       "0       1             1        0                 0            0   \n",
       "1       1             2        0                 0            0   \n",
       "2       9             3        0                 0            0   \n",
       "3       2             4        0                 0            0   \n",
       "4       1             4        1                 0            0   \n",
       "5       1             3        0                 0            0   \n",
       "6       3             3        0                 0            0   \n",
       "7       1             5        1                 0            0   \n",
       "8       2             3        0                 0            0   \n",
       "9       1             2        0                 0            0   \n",
       "\n",
       "   New_Returning_Others  \n",
       "0                     1  \n",
       "1                     1  \n",
       "2                     1  \n",
       "3                     1  \n",
       "4                     1  \n",
       "5                     1  \n",
       "6                     1  \n",
       "7                     1  \n",
       "8                     1  \n",
       "9                     1  "
      ]
     },
     "execution_count": 10,
     "metadata": {},
     "output_type": "execute_result"
    }
   ],
   "source": [
    "hot_raw_df.iloc[:,:18].head(10)"
   ]
  },
  {
   "cell_type": "markdown",
   "metadata": {
    "pycharm": {
     "name": "#%% md\n"
    }
   },
   "source": [
    "## 5) set data features and target(s)"
   ]
  },
  {
   "cell_type": "code",
   "execution_count": 11,
   "metadata": {
    "pycharm": {
     "name": "#%%\n"
    }
   },
   "outputs": [],
   "source": [
    "target_column = 'Sales_Conversion'\n",
    "target = hot_raw_df[target_column]\n",
    "features = hot_raw_df.drop(target_column, axis=1)\n",
    "features_columns = list(features.columns)\n",
    "\n",
    "# for comparison of performance of all machine learning data models\n",
    "comparison_matrix = []\n",
    "comparison_matrix_columns = ['model', 'precision_0', 'precision_1', 'accuracy', 'mean_abs_err', 'predicted target']"
   ]
  },
  {
   "cell_type": "markdown",
   "metadata": {
    "pycharm": {
     "name": "#%% md\n"
    }
   },
   "source": [
    "## 6) set training and testing sets"
   ]
  },
  {
   "cell_type": "code",
   "execution_count": 12,
   "metadata": {
    "pycharm": {
     "name": "#%%\n"
    }
   },
   "outputs": [
    {
     "name": "stdout",
     "output_type": "stream",
     "text": [
      "(8631, 30) (8631,)\n",
      "(3699, 30) (3699,)\n"
     ]
    }
   ],
   "source": [
    "session_random_state = 19\n",
    "session_test_size = 0.30\n",
    "\n",
    "# stage 1 = train (features, target)\n",
    "# stage 2 = test (features, target)\n",
    "train_features, test_features, train_target, test_target = \\\n",
    "    train_test_split(features, target, test_size=session_test_size, random_state=session_random_state)\n",
    "\n",
    "print (train_features.shape, train_target.shape)\n",
    "print (test_features.shape, test_target.shape)"
   ]
  },
  {
   "cell_type": "markdown",
   "metadata": {
    "pycharm": {
     "name": "#%% md\n"
    }
   },
   "source": [
    "## 7) train data model using random forest classifier\n",
    "Hyperparameters of random forest classifier:\n",
    "* n_estimators (100)\n",
    "* max_depth (None)\n",
    "* min_samples_split (2)\n",
    "* min_samples_leaf (1)\n",
    "* max_features ('auto', 'sqrt', 'log2', 'None')\n",
    "* max_leaf_nodes\n",
    "* max_samples\n",
    "\n",
    "\n",
    "### stage 1 - training"
   ]
  },
  {
   "cell_type": "code",
   "execution_count": 13,
   "metadata": {
    "pycharm": {
     "name": "#%%\n"
    }
   },
   "outputs": [
    {
     "data": {
      "text/plain": [
       "RandomForestClassifier(n_estimators=200, n_jobs=2, random_state=19)"
      ]
     },
     "execution_count": 13,
     "metadata": {},
     "output_type": "execute_result"
    }
   ],
   "source": [
    "rfc = RandomForestClassifier(n_estimators=200, n_jobs=2, random_state=session_random_state)\n",
    "rfc.fit(train_features, train_target)"
   ]
  },
  {
   "cell_type": "markdown",
   "metadata": {
    "pycharm": {
     "name": "#%% md\n"
    }
   },
   "source": [
    "### stage 2 - testing"
   ]
  },
  {
   "cell_type": "code",
   "execution_count": 14,
   "metadata": {
    "pycharm": {
     "name": "#%%\n"
    }
   },
   "outputs": [
    {
     "name": "stdout",
     "output_type": "stream",
     "text": [
      "Predicted Result     0    1\n",
      "Actual Result              \n",
      "0                 3036  103\n",
      "1                  258  302\n"
     ]
    }
   ],
   "source": [
    "predictions = rfc.predict(test_features)\n",
    "\n",
    "# create confusion matrix to gut check model\n",
    "confusion_matrix = pd.crosstab(test_target, predictions, rownames=['Actual Result'], colnames=['Predicted Result'])\n",
    "print(confusion_matrix)"
   ]
  },
  {
   "cell_type": "code",
   "execution_count": 15,
   "metadata": {
    "pycharm": {
     "name": "#%%\n"
    }
   },
   "outputs": [
    {
     "name": "stdout",
     "output_type": "stream",
     "text": [
      "[[3036  103]\n",
      " [ 258  302]]\n"
     ]
    }
   ],
   "source": [
    "# confusion matrix, again\n",
    "print(metrics.confusion_matrix(test_target, predictions))"
   ]
  },
  {
   "cell_type": "markdown",
   "metadata": {},
   "source": [
    "### stage 3 - summary"
   ]
  },
  {
   "cell_type": "code",
   "execution_count": 16,
   "metadata": {
    "pycharm": {
     "name": "#%%\n"
    }
   },
   "outputs": [
    {
     "name": "stdout",
     "output_type": "stream",
     "text": [
      "              precision    recall  f1-score   support\n",
      "\n",
      "           0       0.92      0.97      0.94      3139\n",
      "           1       0.75      0.54      0.63       560\n",
      "\n",
      "    accuracy                           0.90      3699\n",
      "   macro avg       0.83      0.75      0.78      3699\n",
      "weighted avg       0.90      0.90      0.90      3699\n",
      "\n"
     ]
    }
   ],
   "source": [
    "# classification report\n",
    "print(metrics.classification_report(test_target, predictions))"
   ]
  },
  {
   "cell_type": "code",
   "execution_count": 17,
   "metadata": {
    "pycharm": {
     "name": "#%%\n"
    }
   },
   "outputs": [
    {
     "name": "stdout",
     "output_type": "stream",
     "text": [
      "Accuracy: 0.902406\n"
     ]
    }
   ],
   "source": [
    "# Model Accuracy, how often is the classifier correct?\n",
    "print(\"Accuracy: {:0.6f}\".format(metrics.accuracy_score(test_target, predictions)))"
   ]
  },
  {
   "cell_type": "code",
   "execution_count": 18,
   "metadata": {
    "pycharm": {
     "name": "#%%\n"
    }
   },
   "outputs": [
    {
     "name": "stdout",
     "output_type": "stream",
     "text": [
      "Success_Rate_0: 92.1676 %\n",
      "Success_Rate_1: 74.5679 %\n"
     ]
    }
   ],
   "source": [
    "Success_Rate_0 = confusion_matrix[0][0] / confusion_matrix[0].sum() * 100\n",
    "Success_Rate_1 = confusion_matrix[1][1] / confusion_matrix[1].sum() * 100\n",
    "print('Success_Rate_0: {:0.4f} %\\nSuccess_Rate_1: {:0.4f} %'.format(Success_Rate_0, Success_Rate_1))"
   ]
  },
  {
   "cell_type": "code",
   "execution_count": 19,
   "metadata": {
    "pycharm": {
     "name": "#%%\n"
    }
   },
   "outputs": [
    {
     "name": "stdout",
     "output_type": "stream",
     "text": [
      "Mean Absolute Error: 0.097594 degrees.\n"
     ]
    }
   ],
   "source": [
    "# Calculate the absolute errors\n",
    "errors = abs(predictions - test_target)\n",
    "\n",
    "# Print out the mean absolute error (mae)\n",
    "print('Mean Absolute Error:', round(float(np.mean(errors)), 6), 'degrees.')"
   ]
  },
  {
   "cell_type": "code",
   "execution_count": 20,
   "metadata": {
    "pycharm": {
     "name": "#%%\n"
    }
   },
   "outputs": [
    {
     "name": "stdout",
     "output_type": "stream",
     "text": [
      "Variable: Average_Page_Value                       Importance: 0.352789\n",
      "Variable: Average_Exit_Rates                       Importance: 0.090436\n",
      "Variable: Product_Pages_Visited_Duration           Importance: 0.086523\n",
      "Variable: Product_Pages_Visited                    Importance: 0.074728\n",
      "Variable: Average_Bounce_Rate                      Importance: 0.057212\n",
      "Variable: Admin_Pages_Visited_Duration             Importance: 0.056329\n",
      "Variable: Admin_Pages_Visited                      Importance: 0.043456\n",
      "Variable: Traffic_Type                             Importance: 0.031537\n",
      "Variable: Region                                   Importance: 0.030841\n",
      "Variable: Site_Info_Pages_Visited_Duration         Importance: 0.028109\n",
      "Variable: Month_Nov                                Importance: 0.022403\n",
      "Variable: Browser_Type                             Importance: 0.019923\n",
      "Variable: OS_Type                                  Importance: 0.019031\n",
      "Variable: Site_Info_Pages_Visited                  Importance: 0.017713\n",
      "Variable: Weekend                                  Importance: 0.010952\n",
      "Variable: Month_May                                Importance: 0.006707\n",
      "Variable: Month_Dec                                Importance: 0.006324\n",
      "Variable: Visitor_Type_Returning_Visitor           Importance: 0.005973\n",
      "Variable: New_Returning_Others                     Importance: 0.005461\n",
      "Variable: Visitor_Type_New_Visitor                 Importance: 0.005199\n",
      "Variable: Month_Mar                                Importance: 0.005118\n",
      "Variable: Month_Sep                                Importance: 0.004565\n",
      "Variable: Month_Oct                                Importance: 0.004558\n",
      "Variable: Proximity_To_Special_Day                 Importance: 0.003939\n",
      "Variable: Month_Jul                                Importance: 0.003518\n",
      "Variable: Month_Aug                                Importance: 0.003323\n",
      "Variable: Month_June                               Importance: 0.002334\n",
      "Variable: Visitor_Type_Other                       Importance: 0.000480\n",
      "Variable: Special_Day                              Importance: 0.000263\n",
      "Variable: Month_Feb                                Importance: 0.000258\n"
     ]
    }
   ],
   "source": [
    "# Get numerical feature importances\n",
    "importances = list(rfc.feature_importances_)\n",
    "\n",
    "# List of tuples with variable and importance\n",
    "feature_importances = [(feature, round(importance, 6)) for feature, importance in zip(features_columns, importances)]\n",
    "# Sort the feature importances by most important first\n",
    "feature_importances = sorted(feature_importances, key = lambda x: x[1], reverse = True)\n",
    "\n",
    "# Print out the feature and importances\n",
    "[print('Variable: {:40} Importance: {:0.6f}'.format(*pair)) for pair in feature_importances];"
   ]
  },
  {
   "cell_type": "code",
   "execution_count": 21,
   "metadata": {
    "pycharm": {
     "name": "#%%\n"
    }
   },
   "outputs": [
    {
     "name": "stdout",
     "output_type": "stream",
     "text": [
      "Average_Page_Value                  0.352789\n",
      "Average_Exit_Rates                  0.090436\n",
      "Product_Pages_Visited_Duration      0.086523\n",
      "Product_Pages_Visited               0.074728\n",
      "Average_Bounce_Rate                 0.057212\n",
      "Admin_Pages_Visited_Duration        0.056329\n",
      "Admin_Pages_Visited                 0.043456\n",
      "Traffic_Type                        0.031537\n",
      "Region                              0.030841\n",
      "Site_Info_Pages_Visited_Duration    0.028109\n",
      "Month_Nov                           0.022403\n",
      "Browser_Type                        0.019923\n",
      "OS_Type                             0.019031\n",
      "Site_Info_Pages_Visited             0.017713\n",
      "Weekend                             0.010952\n",
      "Month_May                           0.006707\n",
      "Month_Dec                           0.006324\n",
      "Visitor_Type_Returning_Visitor      0.005973\n",
      "New_Returning_Others                0.005461\n",
      "Visitor_Type_New_Visitor            0.005199\n",
      "Month_Mar                           0.005118\n",
      "Month_Sep                           0.004565\n",
      "Month_Oct                           0.004558\n",
      "Proximity_To_Special_Day            0.003939\n",
      "Month_Jul                           0.003518\n",
      "Month_Aug                           0.003323\n",
      "Month_June                          0.002334\n",
      "Visitor_Type_Other                  0.000480\n",
      "Special_Day                         0.000263\n",
      "Month_Feb                           0.000258\n",
      "dtype: float64\n"
     ]
    }
   ],
   "source": [
    "# alternative method - feature importance\n",
    "feature_imp = pd.Series(rfc.feature_importances_, index=features_columns).sort_values(ascending=False)\n",
    "print(feature_imp)"
   ]
  },
  {
   "cell_type": "code",
   "execution_count": 22,
   "metadata": {
    "pycharm": {
     "name": "#%%\n"
    }
   },
   "outputs": [],
   "source": [
    "# compile results\n",
    "model_name = 'randomforestclassifier'\n",
    "results = [model_name,\n",
    "           metrics.precision_score(test_target, predictions, pos_label=0),\n",
    "           metrics.precision_score(test_target, predictions, pos_label=1),\n",
    "           metrics.accuracy_score(test_target, predictions),\n",
    "           metrics.mean_absolute_error(test_target, predictions),\n",
    "           predictions,\n",
    "           ]\n",
    "comparison_matrix.append(results)"
   ]
  },
  {
   "cell_type": "code",
   "execution_count": 23,
   "metadata": {
    "pycharm": {
     "name": "#%%\n"
    }
   },
   "outputs": [],
   "source": [
    "def do_confusion_matrix(_test, _pred):\n",
    "    print('<confusion matrix>', metrics.confusion_matrix(_test, _pred), sep='\\n')\n",
    "    _tmp_0 = metrics.precision_score(_test, _pred, pos_label=0)\n",
    "    _tmp_1 = metrics.precision_score(_test, _pred, pos_label=1)\n",
    "    print('Precision for \"0\" : {:0.4f}\\nPrecision for \"1\" : {:0.4f}'.format(_tmp_0, _tmp_1))\n",
    "    metrics.ConfusionMatrixDisplay.from_predictions(_test, _pred, cmap='binary')\n",
    "\n",
    "def do_classification_report(_test, _pred):\n",
    "    print('<classification report>')\n",
    "    print(metrics.classification_report(_test, _pred, digits=4))\n",
    "\n",
    "    _format_string = '{:20} : {:0.4f}'\n",
    "\n",
    "    _temp = metrics.accuracy_score(_test, _pred)\n",
    "    print(_format_string.format('accuracy score', _temp))\n",
    "\n",
    "    _temp = metrics.mean_absolute_error(_test, _pred)\n",
    "    print(_format_string.format('mean absolute error', _temp))\n",
    "\n",
    "    _temp = metrics.completeness_score(_test, _pred)\n",
    "    print(_format_string.format('completeness score', _temp))"
   ]
  },
  {
   "cell_type": "markdown",
   "metadata": {},
   "source": [
    "## 8) Sample Deployment"
   ]
  },
  {
   "cell_type": "code",
   "execution_count": 24,
   "metadata": {
    "pycharm": {
     "name": "#%%\n"
    }
   },
   "outputs": [
    {
     "name": "stdout",
     "output_type": "stream",
     "text": [
      "[0 0 0 0 0 0 0 0 0 0 0 0 0 0 0 0 0 0 0 0 0 0 0 0 0 0 0 0 0 0 0 0 0 0 0 0 0\n",
      " 1 0 0 1 0 0 0 0 0 0 0 0 0 0 0 1 0 0 0 0 0 0 0 0 0 0 1 0 0 0 0 1 0 1 0 0 1\n",
      " 0 0 0 1 0 0 0 0 0 0 1 0 0 0 0 0 0 0 0 0 0 0 0 0 0 0]\n"
     ]
    },
    {
     "name": "stderr",
     "output_type": "stream",
     "text": [
      "c:\\users\\keith\\pycharmprojects\\crypto_01\\venv\\lib\\site-packages\\sklearn\\base.py:445: UserWarning: X does not have valid feature names, but RandomForestClassifier was fitted with feature names\n",
      "  warnings.warn(\n"
     ]
    }
   ],
   "source": [
    "import random\n",
    "random.seed(5)\n",
    "\n",
    "def random_data_generator(_data_size=1):\n",
    "    _traffic = []\n",
    "    for _ in range(_data_size):\n",
    "        _result = []\n",
    "        # Admin_Pages_Visited\n",
    "        _result.append(random.randint(0, 27))\n",
    "        # _result.append(0)\n",
    "        # Admin_Pages_Visited_Duration\n",
    "        _result.append(random.randint(0, 3398))\n",
    "        # _result.append(0)\n",
    "        # Site_Info_Pages_Visited\n",
    "        _result.append(random.randint(0, 24))\n",
    "        # _result.append(0)\n",
    "        # Site_Info_Pages_Visited_Duration\n",
    "        _result.append(random.randint(0, 2549))\n",
    "        # _result.append(0)\n",
    "        # Product_Pages_Visited\n",
    "        _result.append(random.randint(0, 705))\n",
    "        # Product_Pages_Visited_Duration\n",
    "        _result.append(random.randint(0, 63973))\n",
    "        # Average_Bounce_Rate\n",
    "        _result.append(round(random.uniform(0, 0.2), 5))\n",
    "        # Average_Exit_Rates\n",
    "        _result.append(round(random.uniform(0, 0.2), 5))\n",
    "        # Average_Page_Value\n",
    "        _result.append(random.randint(0, 361))\n",
    "        # Proximity_To_Special_Day\n",
    "        _result.append(round(random.uniform(0, 1), 5))\n",
    "        # Month\n",
    "        # _tmp = random.randint(0, 11)\n",
    "        # _months = ['Feb', 'Mar', 'Mar', 'May', 'May', 'Jun', 'Jul', 'Aug', 'Sep', 'Oct', 'Nov', 'Dec']\n",
    "        # _result.append(_months[_tmp])\n",
    "        # OS_Type\n",
    "        _result.append(random.randint(1, 8))\n",
    "        # Browser_Type\n",
    "        _result.append(random.randint(1, 13))\n",
    "        # Region\n",
    "        _result.append(random.randint(1, 9))\n",
    "        # Traffic_Type\n",
    "        _result.append(random.randint(1, 20))\n",
    "        # Visitor_Type\n",
    "        # _tmp = random.randint(0, 2)\n",
    "        # _visitors = ['New_Visitor', 'Returning_Visitor', 'Other']\n",
    "        # _result.append(_visitors[_tmp])\n",
    "        # Weekend\n",
    "        _result.append(random.randint(0, 1))\n",
    "        # Special_Day\n",
    "        _result.append(random.randint(0, 1))\n",
    "        # New_Returning_Others\n",
    "        _result.append(random.randint(0, 2))\n",
    "        for _ in range(13):\n",
    "            _result.append(0)\n",
    "        _traffic.append(_result)\n",
    "    return _traffic\n",
    "\n",
    "deployment_data_size = 100\n",
    "deployment_data = random_data_generator(deployment_data_size)\n",
    "deployment_result = rfc.predict(deployment_data)\n",
    "print(deployment_result)"
   ]
  },
  {
   "cell_type": "markdown",
   "metadata": {},
   "source": [
    "## 9) save and test saved model"
   ]
  },
  {
   "cell_type": "code",
   "execution_count": 25,
   "metadata": {
    "pycharm": {
     "name": "#%%\n"
    }
   },
   "outputs": [],
   "source": [
    "model_filename = model_name + '.pkl'\n",
    "pickle.dump(rfc, open(model_filename, 'wb'))"
   ]
  },
  {
   "cell_type": "code",
   "execution_count": 26,
   "metadata": {
    "pycharm": {
     "name": "#%%\n"
    }
   },
   "outputs": [
    {
     "name": "stdout",
     "output_type": "stream",
     "text": [
      "[0 0 0 0 0 0 0 0 0 0 0 0 0 0 0 0 0 0 0 0 0 0 0 0 0 0 0 0 0 0 0 0 0 0 0 0 0\n",
      " 1 0 0 1 0 0 0 0 0 0 0 0 0 0 0 1 0 0 0 0 0 0 0 0 0 0 1 0 0 0 0 1 0 1 0 0 1\n",
      " 0 0 0 1 0 0 0 0 0 0 1 0 0 0 0 0 0 0 0 0 0 0 0 0 0 0]\n"
     ]
    },
    {
     "name": "stderr",
     "output_type": "stream",
     "text": [
      "c:\\users\\keith\\pycharmprojects\\crypto_01\\venv\\lib\\site-packages\\sklearn\\base.py:445: UserWarning: X does not have valid feature names, but RandomForestClassifier was fitted with feature names\n",
      "  warnings.warn(\n"
     ]
    }
   ],
   "source": [
    "saved_rfc = pickle.load(open(model_filename, 'rb'))\n",
    "deployment_result_2 = saved_rfc.predict(deployment_data)\n",
    "print(deployment_result_2)"
   ]
  },
  {
   "cell_type": "markdown",
   "metadata": {},
   "source": [
    "## Naive Bayes Algorithm\n",
    "Naive Bayes has almost no hyper-parameters to tune.\n",
    "One thing to note is that due to the feature independence assumption, the class probabilities output by naive Bayes can be pretty inaccurate.\n",
    "So if your end application requires precise estimates of probabilities, you will want to go with another algorithm."
   ]
  },
  {
   "cell_type": "code",
   "execution_count": 27,
   "metadata": {
    "pycharm": {
     "name": "#%%\n"
    }
   },
   "outputs": [],
   "source": [
    "from sklearn.naive_bayes import GaussianNB\n",
    "from sklearn.naive_bayes import BernoulliNB\n",
    "from sklearn.naive_bayes import ComplementNB\n",
    "from sklearn.naive_bayes import CategoricalNB\n",
    "from sklearn.naive_bayes import MultinomialNB\n",
    "\n",
    "# naive_bayes_models = ['GaussianNB', 'BernoulliNB', 'ComplementNB', 'CategoricalNB', 'MultinomialNB']\n",
    "naive_bayes_models = ['GaussianNB', 'BernoulliNB', 'MultinomialNB', 'ComplementNB']\n",
    "\n",
    "for _model in naive_bayes_models:\n",
    "    if _model == 'GaussianNB':\n",
    "        data_model = GaussianNB()\n",
    "    elif _model == 'BernoulliNB':\n",
    "        data_model = BernoulliNB()\n",
    "    elif _model == 'ComplementNB':\n",
    "        data_model = ComplementNB()\n",
    "    elif _model == 'CategoricalNB':\n",
    "        data_model = CategoricalNB()\n",
    "    elif _model == 'MultinomialNB':\n",
    "        data_model = MultinomialNB()\n",
    "    else:\n",
    "        data_model = BernoulliNB()\n",
    "\n",
    "    # train data model\n",
    "    data_model.fit(train_features, train_target)\n",
    "    # test trained model\n",
    "    predict_target = data_model.predict(test_features)\n",
    "\n",
    "    # compile results\n",
    "    results = [_model,\n",
    "               metrics.precision_score(test_target, predict_target, pos_label=0),\n",
    "               metrics.precision_score(test_target, predict_target, pos_label=1),\n",
    "               metrics.accuracy_score(test_target, predict_target),\n",
    "               metrics.mean_absolute_error(test_target, predict_target),\n",
    "               predict_target,\n",
    "               ]\n",
    "    comparison_matrix.append(results)\n",
    "\n",
    "    # save model\n",
    "    model_filename = _model + '.pkl'\n",
    "    pickle.dump(data_model, open(model_filename, 'wb'))\n"
   ]
  },
  {
   "cell_type": "code",
   "execution_count": 28,
   "metadata": {
    "pycharm": {
     "name": "#%%\n"
    }
   },
   "outputs": [
    {
     "name": "stdout",
     "output_type": "stream",
     "text": [
      "                    model  precision_0  precision_1  accuracy  mean_abs_err\n",
      "0  randomforestclassifier     0.921676     0.745679  0.902406      0.097594\n",
      "1              GaussianNB     0.926095     0.340782  0.756150      0.243850\n",
      "2             BernoulliNB     0.926354     0.502235  0.849419      0.150581\n",
      "3           MultinomialNB     0.928074     0.613260  0.881860      0.118140\n",
      "4            ComplementNB     0.930990     0.604569  0.880779      0.119221\n"
     ]
    }
   ],
   "source": [
    "comparison_matrix_df = pd.DataFrame(comparison_matrix, columns=comparison_matrix_columns)\n",
    "comparison_matrix_df = comparison_matrix_df.drop('predicted target', axis=1)\n",
    "print(comparison_matrix_df)"
   ]
  },
  {
   "cell_type": "markdown",
   "metadata": {
    "pycharm": {
     "name": "#%% md\n"
    }
   },
   "source": [
    "## Support Vector Machine (SVM)\n",
    "Hyperparameters of SVM:\n",
    "* kernel\n",
    "* gamma\n",
    "* cost"
   ]
  },
  {
   "cell_type": "code",
   "execution_count": 29,
   "metadata": {
    "pycharm": {
     "name": "#%%\n"
    }
   },
   "outputs": [],
   "source": [
    "from sklearn import svm\n",
    "\n",
    "# svm_models = ['linear', 'poly', 'rbf', 'sigmoid', 'precomputed']\n",
    "svm_kernels = ['linearSVM', 'polySVM', 'rbfSVM', 'sigmoidSVM']\n",
    "\n",
    "for _kernel in svm_kernels:\n",
    "    if _kernel == 'linearSVM':\n",
    "        data_model = svm.SVC(kernel='linear', random_state=session_random_state)\n",
    "    elif _kernel == 'polySVM':\n",
    "        data_model = svm.SVC(kernel='poly', random_state=session_random_state)\n",
    "    elif _kernel == 'rbfSVM':\n",
    "        data_model = svm.SVC(kernel='rbf', random_state=session_random_state)\n",
    "    elif _kernel == 'sigmoidSVM':\n",
    "        data_model = svm.SVC(kernel='sigmoid', random_state=session_random_state)\n",
    "    elif _kernel == 'precomputedSVM':\n",
    "        data_model = svm.SVC(kernel='precomputed', random_state=session_random_state)\n",
    "    else:\n",
    "        data_model = svm.SVC(kernel='linear', random_state=session_random_state)\n",
    "\n",
    "    # train data model\n",
    "    data_model.fit(train_features, train_target)\n",
    "    # test trained model\n",
    "    predict_target = data_model.predict(test_features)\n",
    "\n",
    "    # compile results\n",
    "    results = [_kernel,\n",
    "               metrics.precision_score(test_target, predict_target, pos_label=0),\n",
    "               metrics.precision_score(test_target, predict_target, pos_label=1),\n",
    "               metrics.accuracy_score(test_target, predict_target),\n",
    "               metrics.mean_absolute_error(test_target, predict_target),\n",
    "               predict_target,\n",
    "               ]\n",
    "    comparison_matrix.append(results)\n",
    "\n",
    "    # save model\n",
    "    model_filename = _kernel + '.pkl'\n",
    "    pickle.dump(data_model, open(model_filename, 'wb'))\n"
   ]
  },
  {
   "cell_type": "code",
   "execution_count": 31,
   "metadata": {
    "pycharm": {
     "name": "#%%\n"
    }
   },
   "outputs": [
    {
     "name": "stdout",
     "output_type": "stream",
     "text": [
      "                    model  precision_0  precision_1  accuracy  mean_abs_err\n",
      "0  randomforestclassifier     0.921676     0.745679  0.902406      0.097594\n",
      "1              GaussianNB     0.926095     0.340782  0.756150      0.243850\n",
      "2             BernoulliNB     0.926354     0.502235  0.849419      0.150581\n",
      "3           MultinomialNB     0.928074     0.613260  0.881860      0.118140\n",
      "4            ComplementNB     0.930990     0.604569  0.880779      0.119221\n",
      "5               linearSVM     0.897929     0.777778  0.889159      0.110841\n",
      "6                 polySVM     0.849702     0.461538  0.848337      0.151663\n",
      "7                  rbfSVM     0.850217     1.000000  0.850500      0.149500\n",
      "8              sigmoidSVM     0.863987     0.232598  0.763450      0.236550\n"
     ]
    }
   ],
   "source": [
    "comparison_matrix_df = pd.DataFrame(comparison_matrix, columns=comparison_matrix_columns)\n",
    "comparison_matrix_df = comparison_matrix_df.drop('predicted target', axis=1)\n",
    "print(comparison_matrix_df)"
   ]
  },
  {
   "cell_type": "markdown",
   "metadata": {
    "pycharm": {
     "name": "#%% md\n"
    }
   },
   "source": [
    "## Ensemble Gradient Boosting (Classification)\n",
    "Boosting is a special type of Ensemble Learning technique that works by combining several weak learners(predictors with poor accuracy)\n",
    "into a strong learner(a model with strong accuracy). This works by each model paying attention to its predecessor’s mistakes.\n",
    "(1) Adaptive Boosting\n",
    "(2) Gradient Boosting\n",
    "\n",
    "####\n",
    "#### Gradient Boosting\n",
    "The learning_rate is a hyperparameter that is used to scale each trees contribution, sacrificing bias for better variance.\n",
    "In other words, we multiply this number by the predicted value so that we do not over-fit the data.\n",
    "\n",
    "* Criterion: The loss function used to find the optimal feature and threshold to split the data\n",
    "* learning_rate: this parameter scales the contribution of each tree\n",
    "* max_depth: the maximum depth of each tree\n",
    "* n_estimators: the number of trees to construct\n",
    "* init: the initial estimator. By default, it is the log(odds) converted to a probability(like we discussed before)\n"
   ]
  },
  {
   "cell_type": "code",
   "execution_count": 32,
   "metadata": {
    "pycharm": {
     "name": "#%%\n"
    }
   },
   "outputs": [
    {
     "data": {
      "text/plain": [
       "{'ccp_alpha': 0.0,\n",
       " 'criterion': 'friedman_mse',\n",
       " 'init': None,\n",
       " 'learning_rate': 0.1,\n",
       " 'loss': 'deviance',\n",
       " 'max_depth': 3,\n",
       " 'max_features': None,\n",
       " 'max_leaf_nodes': None,\n",
       " 'min_impurity_decrease': 0.0,\n",
       " 'min_samples_leaf': 1,\n",
       " 'min_samples_split': 2,\n",
       " 'min_weight_fraction_leaf': 0.0,\n",
       " 'n_estimators': 100,\n",
       " 'n_iter_no_change': None,\n",
       " 'random_state': None,\n",
       " 'subsample': 1.0,\n",
       " 'tol': 0.0001,\n",
       " 'validation_fraction': 0.1,\n",
       " 'verbose': 0,\n",
       " 'warm_start': False}"
      ]
     },
     "execution_count": 32,
     "metadata": {},
     "output_type": "execute_result"
    }
   ],
   "source": [
    "from sklearn.ensemble import GradientBoostingClassifier\n",
    "\n",
    "data_model = GradientBoostingClassifier(learning_rate=0.1)\n",
    "data_model.get_params()"
   ]
  },
  {
   "cell_type": "code",
   "execution_count": 33,
   "metadata": {
    "pycharm": {
     "name": "#%%\n"
    }
   },
   "outputs": [],
   "source": [
    "learning_rates = [0.05, 0.075, 0.1, 0.25, 0.5, 0.75, 1]\n",
    "\n",
    "for _learning_rate in learning_rates:\n",
    "    # define data model\n",
    "    data_model = GradientBoostingClassifier(learning_rate=_learning_rate, random_state=session_random_state)\n",
    "\n",
    "    # train data model\n",
    "    data_model.fit(train_features, train_target)\n",
    "    # test trained model\n",
    "    predict_target = data_model.predict(test_features)\n",
    "\n",
    "    _model_name = str(_learning_rate) + 'GBC'\n",
    "    # compile results\n",
    "    results = [_model_name,\n",
    "               metrics.precision_score(test_target, predict_target, pos_label=0),\n",
    "               metrics.precision_score(test_target, predict_target, pos_label=1),\n",
    "               metrics.accuracy_score(test_target, predict_target),\n",
    "               metrics.mean_absolute_error(test_target, predict_target),\n",
    "               predict_target,\n",
    "               ]\n",
    "    comparison_matrix.append(results)\n",
    "\n",
    "    # save model\n",
    "    model_filename = _model_name + '.pkl'\n",
    "    pickle.dump(data_model, open(model_filename, 'wb'))"
   ]
  },
  {
   "cell_type": "code",
   "execution_count": 34,
   "metadata": {
    "pycharm": {
     "name": "#%%\n"
    }
   },
   "outputs": [
    {
     "name": "stdout",
     "output_type": "stream",
     "text": [
      "                     model  precision_0  precision_1  accuracy  mean_abs_err\n",
      "0   randomforestclassifier     0.921676     0.745679  0.902406      0.097594\n",
      "1               GaussianNB     0.926095     0.340782  0.756150      0.243850\n",
      "2              BernoulliNB     0.926354     0.502235  0.849419      0.150581\n",
      "3            MultinomialNB     0.928074     0.613260  0.881860      0.118140\n",
      "4             ComplementNB     0.930990     0.604569  0.880779      0.119221\n",
      "5                linearSVM     0.897929     0.777778  0.889159      0.110841\n",
      "6                  polySVM     0.849702     0.461538  0.848337      0.151663\n",
      "7                   rbfSVM     0.850217     1.000000  0.850500      0.149500\n",
      "8               sigmoidSVM     0.863987     0.232598  0.763450      0.236550\n",
      "9                  0.05GBC     0.928593     0.728889  0.904298      0.095702\n",
      "10                0.075GBC     0.930491     0.725108  0.904839      0.095161\n",
      "11                  0.1GBC     0.929852     0.719222  0.903487      0.096513\n",
      "12                 0.25GBC     0.929058     0.702760  0.900243      0.099757\n",
      "13                  0.5GBC     0.928216     0.683992  0.896459      0.103541\n",
      "14                 0.75GBC     0.925307     0.614068  0.881049      0.118951\n",
      "15                    1GBC     0.925031     0.675159  0.893214      0.106786\n"
     ]
    }
   ],
   "source": [
    "comparison_matrix_df = pd.DataFrame(comparison_matrix, columns=comparison_matrix_columns)\n",
    "comparison_matrix_df = comparison_matrix_df.drop('predicted target', axis=1)\n",
    "print(comparison_matrix_df)"
   ]
  },
  {
   "cell_type": "code",
   "execution_count": 35,
   "metadata": {
    "pycharm": {
     "name": "#%%\n"
    }
   },
   "outputs": [],
   "source": [
    "# save comparison matrix\n",
    "comparison_matrix_df.to_csv('model comparison.csv', mode='a', header=True)"
   ]
  },
  {
   "cell_type": "markdown",
   "metadata": {
    "pycharm": {
     "name": "#%% md\n"
    }
   },
   "source": [
    "## Evaluate model with highest efficacy\n"
   ]
  },
  {
   "cell_type": "code",
   "execution_count": 64,
   "metadata": {
    "pycharm": {
     "name": "#%%\n"
    }
   },
   "outputs": [],
   "source": [
    "reference_model = 'randomforestclassifier'\n",
    "chosen_model = '0.05GBC'\n",
    "\n",
    "reference_result = comparison_matrix[0][-1]\n",
    "evaluation_result = comparison_matrix[9][-1]"
   ]
  },
  {
   "cell_type": "code",
   "execution_count": 65,
   "metadata": {
    "pycharm": {
     "name": "#%%\n"
    }
   },
   "outputs": [
    {
     "name": "stdout",
     "output_type": "stream",
     "text": [
      "<classification report>\n",
      "              precision    recall  f1-score   support\n",
      "\n",
      "           0     0.9217    0.9672    0.9439      3139\n",
      "           1     0.7457    0.5393    0.6259       560\n",
      "\n",
      "    accuracy                         0.9024      3699\n",
      "   macro avg     0.8337    0.7532    0.7849      3699\n",
      "weighted avg     0.8950    0.9024    0.8957      3699\n",
      "\n",
      "accuracy score       : 0.9024\n",
      "mean absolute error  : 0.0976\n",
      "completeness score   : 0.3429\n"
     ]
    }
   ],
   "source": [
    "do_classification_report(test_target, reference_result)"
   ]
  },
  {
   "cell_type": "code",
   "execution_count": 66,
   "metadata": {
    "pycharm": {
     "name": "#%%\n"
    }
   },
   "outputs": [
    {
     "name": "stdout",
     "output_type": "stream",
     "text": [
      "<classification report>\n",
      "              precision    recall  f1-score   support\n",
      "\n",
      "           0     0.9286    0.9611    0.9446      3139\n",
      "           1     0.7289    0.5857    0.6495       560\n",
      "\n",
      "    accuracy                         0.9043      3699\n",
      "   macro avg     0.8287    0.7734    0.7970      3699\n",
      "weighted avg     0.8984    0.9043    0.8999      3699\n",
      "\n",
      "accuracy score       : 0.9043\n",
      "mean absolute error  : 0.0957\n",
      "completeness score   : 0.3459\n"
     ]
    }
   ],
   "source": [
    "do_classification_report(test_target, evaluation_result)"
   ]
  },
  {
   "cell_type": "code",
   "execution_count": 67,
   "metadata": {
    "pycharm": {
     "name": "#%%\n"
    }
   },
   "outputs": [
    {
     "name": "stdout",
     "output_type": "stream",
     "text": [
      "<confusion matrix>\n",
      "[[3036  103]\n",
      " [ 258  302]]\n",
      "Precision for \"0\" : 0.9217\n",
      "Precision for \"1\" : 0.7457\n"
     ]
    },
    {
     "data": {
      "image/png": "[encoded data removed]",
      "text/plain": [
       "<Figure size 432x288 with 2 Axes>"
      ]
     },
     "metadata": {
      "needs_background": "light"
     },
     "output_type": "display_data"
    }
   ],
   "source": [
    "do_confusion_matrix(test_target, reference_result)"
   ]
  },
  {
   "cell_type": "code",
   "execution_count": 68,
   "metadata": {
    "pycharm": {
     "name": "#%%\n"
    }
   },
   "outputs": [
    {
     "name": "stdout",
     "output_type": "stream",
     "text": [
      "<confusion matrix>\n",
      "[[3017  122]\n",
      " [ 232  328]]\n",
      "Precision for \"0\" : 0.9286\n",
      "Precision for \"1\" : 0.7289\n"
     ]
    },
    {
     "data": {
      "image/png": "[encoded data removed]",
      "text/plain": [
       "<Figure size 432x288 with 2 Axes>"
      ]
     },
     "metadata": {
      "needs_background": "light"
     },
     "output_type": "display_data"
    }
   ],
   "source": [
    "do_confusion_matrix(test_target, evaluation_result)"
   ]
  },
  {
   "cell_type": "markdown",
   "metadata": {
    "pycharm": {
     "name": "#%% md\n"
    }
   },
   "source": [
    "### End of Notebook"
   ]
  }
 ],
 "metadata": {
  "kernelspec": {
   "display_name": "Python 3 (ipykernel)",
   "language": "python",
   "name": "python3"
  },
  "language_info": {
   "codemirror_mode": {
    "name": "ipython",
    "version": 3
   },
   "file_extension": ".py",
   "mimetype": "text/x-python",
   "name": "python",
   "nbconvert_exporter": "python",
   "pygments_lexer": "ipython3",
   "version": "3.10.0"
  }
 },
 "nbformat": 4,
 "nbformat_minor": 1
}